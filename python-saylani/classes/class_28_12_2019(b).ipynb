{
 "cells": [
  {
   "cell_type": "code",
   "execution_count": 1,
   "metadata": {},
   "outputs": [
    {
     "name": "stdout",
     "output_type": "stream",
     "text": [
      "Modules / Read-Write Ops / Numpy\n"
     ]
    }
   ],
   "source": [
    "print(\"Modules / Read-Write Ops / Numpy\")"
   ]
  },
  {
   "cell_type": "code",
   "execution_count": null,
   "metadata": {},
   "outputs": [],
   "source": [
    "#read from file\n",
    "with open('Practice.txt') as practiceFile:\n",
    " contents = practiceFile.read()\n",
    " print(contents)"
   ]
  },
  {
   "cell_type": "code",
   "execution_count": null,
   "metadata": {},
   "outputs": [],
   "source": [
    "#read from folder's file\n",
    "with open('Practice Folder/Practice2.txt') as practiceFile:\n",
    " contents = practiceFile.read()\n",
    " print(contents)"
   ]
  },
  {
   "cell_type": "code",
   "execution_count": 17,
   "metadata": {},
   "outputs": [
    {
     "name": "stdout",
     "output_type": "stream",
     "text": [
      "Umar\n",
      "Aslam\n",
      "Nawab\n"
     ]
    }
   ],
   "source": [
    "# filepath\n",
    "filePath= 'Practice Folder/Practice2.txt'\n",
    "with open(filePath) as practiceFile:\n",
    " contents = practiceFile.read() \n",
    " print(contents)"
   ]
  },
  {
   "cell_type": "code",
   "execution_count": 29,
   "metadata": {},
   "outputs": [
    {
     "name": "stdout",
     "output_type": "stream",
     "text": [
      "123\n",
      "456\n",
      "789\n"
     ]
    }
   ],
   "source": [
    "#line by line\n",
    "\n",
    "filepath='Practice.txt'\n",
    "with open(filepath) as PracticeFile:\n",
    "    for oneLine in PracticeFile:\n",
    "        print(oneLine)"
   ]
  },
  {
   "cell_type": "code",
   "execution_count": 114,
   "metadata": {},
   "outputs": [
    {
     "name": "stdout",
     "output_type": "stream",
     "text": [
      "000\n",
      "111\n",
      "222\n"
     ]
    }
   ],
   "source": [
    "#accessing from outside the scope\n",
    "\n",
    "with open('Practice.txt') as PracticeFile:\n",
    "    contents = PracticeFile.readlines()\n",
    "\n",
    "for line in contents:\n",
    "    print(line.rstrip())"
   ]
  },
  {
   "cell_type": "code",
   "execution_count": 63,
   "metadata": {},
   "outputs": [
    {
     "name": "stdout",
     "output_type": "stream",
     "text": [
      "123456789\n"
     ]
    }
   ],
   "source": [
    "#entire file in one-line\n",
    "\n",
    "filepath = 'Practice.txt'\n",
    "with open(filepath) as PracticeFile:\n",
    " lines = PracticeFile.readlines()\n",
    "\n",
    "oneline=\"\"\n",
    "\n",
    "for line in lines:\n",
    " oneline += line.rstrip()\n",
    "\n",
    "print(oneline)\n"
   ]
  },
  {
   "cell_type": "code",
   "execution_count": 64,
   "metadata": {},
   "outputs": [
    {
     "name": "stdout",
     "output_type": "stream",
     "text": [
      "123456 still continue\n",
      "9\n"
     ]
    }
   ],
   "source": [
    "#liminting content\n",
    "\n",
    "filepath = 'Practice.txt'\n",
    "with open(filepath) as PracticeFile:\n",
    " lines = PracticeFile.readlines()\n",
    "\n",
    "oneline=\"\"\n",
    "\n",
    "for line in lines:\n",
    " oneline += line.rstrip()\n",
    "\n",
    "print(oneline[:6] + \" \"+ \"still continue\")\n",
    "print(len(oneline))"
   ]
  },
  {
   "cell_type": "code",
   "execution_count": 87,
   "metadata": {},
   "outputs": [],
   "source": [
    "#writing to a file\n",
    "\n",
    "filepath= 'Practice.txt'\n",
    "\n",
    "with open(filepath,'w') as PracticeFile:\n",
    "    PracticeFile.write('000 \\n') # \\n when use multi-line\n",
    "   # PracticeFile.write(\"111\") #for multi-line\n",
    "\n"
   ]
  },
  {
   "cell_type": "code",
   "execution_count": 88,
   "metadata": {},
   "outputs": [
    {
     "name": "stdout",
     "output_type": "stream",
     "text": [
      "000 \n",
      "\n"
     ]
    }
   ],
   "source": [
    "filepath= 'Practice.txt'\n",
    "\n",
    "with open(filepath) as PracticeFile:\n",
    "    contents=PracticeFile.read()\n",
    "    print(contents)"
   ]
  },
  {
   "cell_type": "code",
   "execution_count": 89,
   "metadata": {},
   "outputs": [],
   "source": [
    "#appending to file \n",
    "\n",
    "filepath= 'Practice.txt'\n",
    "\n",
    "with open(filepath,'a') as PracticeFile:\n",
    "    PracticeFile.write('222')"
   ]
  },
  {
   "cell_type": "code",
   "execution_count": 91,
   "metadata": {},
   "outputs": [
    {
     "name": "stdout",
     "output_type": "stream",
     "text": [
      "000 \n",
      "222\n"
     ]
    }
   ],
   "source": [
    "filepath= 'Practice.txt'\n",
    "\n",
    "with open(filepath) as PracticeFile:\n",
    "    contents=PracticeFile.read()\n",
    "    print(contents)"
   ]
  },
  {
   "cell_type": "code",
   "execution_count": 95,
   "metadata": {},
   "outputs": [
    {
     "name": "stdout",
     "output_type": "stream",
     "text": [
      "Your number should not be divide by 0\n"
     ]
    }
   ],
   "source": [
    "#exception cases - zero division\n",
    "\n",
    "firstnum=5\n",
    "secondnum=0\n",
    "\n",
    "try:\n",
    "    answer= firstnum/secondnum\n",
    "    \n",
    "except ZeroDivisionError:\n",
    "    print(\"Your number should not be divide by 0\")\n",
    "\n",
    "else:\n",
    "    print(answer)\n",
    "    \n"
   ]
  },
  {
   "cell_type": "code",
   "execution_count": 116,
   "metadata": {},
   "outputs": [
    {
     "name": "stdout",
     "output_type": "stream",
     "text": [
      "//ye practice ke folder main ha\n",
      "\n",
      "Umar\n",
      "Aslam\n",
      "Nawab\n"
     ]
    }
   ],
   "source": [
    "try:\n",
    "    with open('Practice Folder/Practice2.txt') as practiceFile:\n",
    "             contents = practiceFile.read()\n",
    "            \n",
    "except FileNotFoundError:\n",
    "    print(\"your file is not present in the directory\")\n",
    " \n",
    "else:\n",
    "    print(contents)"
   ]
  },
  {
   "cell_type": "code",
   "execution_count": 146,
   "metadata": {},
   "outputs": [
    {
     "name": "stdout",
     "output_type": "stream",
     "text": [
      "3.141592653589793\n"
     ]
    }
   ],
   "source": [
    "import math\n",
    "\n",
    "print(math.pi)"
   ]
  },
  {
   "cell_type": "code",
   "execution_count": 152,
   "metadata": {},
   "outputs": [
    {
     "name": "stdout",
     "output_type": "stream",
     "text": [
      "3.141592653589793\n"
     ]
    }
   ],
   "source": [
    "import math as mymath\n",
    "print(mymath.pi)"
   ]
  },
  {
   "cell_type": "code",
   "execution_count": 148,
   "metadata": {},
   "outputs": [
    {
     "name": "stdout",
     "output_type": "stream",
     "text": [
      "3.141592653589793\n"
     ]
    }
   ],
   "source": [
    "from math import pi\n",
    "print(pi)"
   ]
  },
  {
   "cell_type": "code",
   "execution_count": 3,
   "metadata": {},
   "outputs": [
    {
     "name": "stdout",
     "output_type": "stream",
     "text": [
      "2.718281828459045\n"
     ]
    }
   ],
   "source": [
    "from math import *\n",
    "print(e)\n"
   ]
  },
  {
   "cell_type": "code",
   "execution_count": 9,
   "metadata": {},
   "outputs": [
    {
     "name": "stdout",
     "output_type": "stream",
     "text": [
      "6\n",
      "5\n"
     ]
    }
   ],
   "source": [
    "import math \n",
    "print(math.ceil(5.7))\n",
    "print(math.floor(5.7))"
   ]
  },
  {
   "cell_type": "code",
   "execution_count": 7,
   "metadata": {},
   "outputs": [
    {
     "data": {
      "text/plain": [
       "8"
      ]
     },
     "execution_count": 7,
     "metadata": {},
     "output_type": "execute_result"
    }
   ],
   "source": [
    "#import import_ipynb\n",
    "\n",
    "import import_ipynb\n",
    "\n",
    "import Practice2\n",
    "\n",
    "Practice2.add(3,5)\n",
    "\n"
   ]
  },
  {
   "cell_type": "code",
   "execution_count": 23,
   "metadata": {},
   "outputs": [
    {
     "name": "stdout",
     "output_type": "stream",
     "text": [
      "['\\ufeffProgramming language', 'Designed by', 'Appeared', 'Extension']\n",
      "['Python', 'Guido van Rossum', '1991', '.py']\n",
      "['Java', 'James Gosling', '1995', '.java']\n",
      "['C++', 'Bjarne Stroustrup', '1983', '.cpp']\n"
     ]
    }
   ],
   "source": [
    "#csv example\n",
    "\n",
    "import csv\n",
    "\n",
    "with open(\"data.csv\") as PracticeFile:\n",
    "    contents=csv.reader(PracticeFile)\n",
    "    for line in contents:\n",
    "        print(line)\n",
    "\n"
   ]
  },
  {
   "cell_type": "code",
   "execution_count": 56,
   "metadata": {},
   "outputs": [
    {
     "name": "stdout",
     "output_type": "stream",
     "text": [
      "[[-0.50869503 -0.41723618 -1.43898378]\n",
      " [ 0.80754767  0.4373393  -0.51302052]] \n",
      "\n",
      "[[-1.01739007 -0.83447235 -2.87796756]\n",
      " [ 1.61509535  0.87467861 -1.02604104]] \n",
      "\n",
      "[[ -5.08695035  -4.17236176 -14.38983779]\n",
      " [  8.07547674   4.37339304  -5.13020518]] \n",
      "\n",
      "[[-3.9316287  -4.79344821 -1.38986973]\n",
      " [ 2.47663397  4.5731083  -3.89847956]] \n",
      "\n",
      "(2, 3) \n",
      "\n",
      "float64 \n",
      "\n",
      "2 \n",
      "\n"
     ]
    }
   ],
   "source": [
    "#numpy start\n",
    "\n",
    "import numpy as np\n",
    "data = np.random.randn(2, 3)\n",
    "print(data ,'\\n') \n",
    "print(data+data , '\\n') \n",
    "print(data * 10 , '\\n')\n",
    "print(data.shape, '\\n')\n",
    "print(data.dtype , '\\n')\n",
    "print(data.ndim, '\\n')\n"
   ]
  },
  {
   "cell_type": "code",
   "execution_count": 45,
   "metadata": {},
   "outputs": [
    {
     "name": "stdout",
     "output_type": "stream",
     "text": [
      "[0. 0. 0. 0. 0. 0. 0. 0. 0. 0.] \n",
      "\n",
      "[[0. 0. 0. 0. 0. 0.]\n",
      " [0. 0. 0. 0. 0. 0.]\n",
      " [0. 0. 0. 0. 0. 0.]] \n",
      "\n",
      "[[[0. 0. 0. 0. 0. 0.]\n",
      "  [0. 0. 0. 0. 0. 0.]\n",
      "  [0. 0. 0. 0. 0. 0.]]\n",
      "\n",
      " [[0. 0. 0. 0. 0. 0.]\n",
      "  [0. 0. 0. 0. 0. 0.]\n",
      "  [0. 0. 0. 0. 0. 0.]]] \n",
      "\n",
      "[[0. 0. 0. 0. 0. 0.]\n",
      " [0. 0. 0. 0. 0. 0.]\n",
      " [0. 0. 0. 0. 0. 0.]] \n",
      "\n"
     ]
    }
   ],
   "source": [
    "#zero and empty\n",
    "\n",
    "print(np.zeros(10) , \"\\n\")\n",
    "\n",
    "print(np.zeros((3,6)), \"\\n\")\n",
    "\n",
    "print(np.zeros((2,3,6)), \"\\n\")\n",
    "\n",
    "\n",
    "print(np.empty((3,6)) , \"\\n\")"
   ]
  },
  {
   "cell_type": "code",
   "execution_count": 96,
   "metadata": {},
   "outputs": [
    {
     "name": "stdout",
     "output_type": "stream",
     "text": [
      "[0 1 2 3 4 5 6 7 8] \n",
      "\n",
      "[[ 0  1  2  3]\n",
      " [ 4  5  6  7]\n",
      " [ 8  9 10 11]\n",
      " [12 13 14 15]]\n"
     ]
    }
   ],
   "source": [
    "#arrange - like range in normal python\n",
    "\n",
    "print(np.arange(9), \"\\n\")\n",
    "print(np.arange(16).reshape(4,4))\n"
   ]
  },
  {
   "cell_type": "code",
   "execution_count": 55,
   "metadata": {},
   "outputs": [
    {
     "name": "stdout",
     "output_type": "stream",
     "text": [
      "[1. 2. 3. 4. 5.]\n",
      "[1. 2. 3. 4. 5.]\n"
     ]
    }
   ],
   "source": [
    "#changing data type\n",
    "arr = np.array([1,2,3,4,5])\n",
    "print(arr.astype(np.float64))\n",
    "\n",
    "arr2= np.array([\"1\",\"2\",\"3\",\"4\",\"5\"])\n",
    "print(arr2.astype(np.float64))"
   ]
  },
  {
   "cell_type": "code",
   "execution_count": 106,
   "metadata": {},
   "outputs": [
    {
     "name": "stdout",
     "output_type": "stream",
     "text": [
      "[ 8  4 12 16] \n",
      "\n",
      "[16  4 36 64] \n",
      "\n",
      "[0.5        1.         0.33333333 0.25      ] \n",
      "\n",
      "[16  4 36 64] \n",
      "\n",
      "[2.         1.41421356 2.44948974 2.82842712] \n",
      "\n",
      "[  54.59815003    7.3890561   403.42879349 2980.95798704] \n",
      "\n",
      "5.0 \n",
      "\n",
      "[2 4 6 8] \n",
      "\n",
      "20 \n",
      "\n",
      "[ 4  6 12 20] \n",
      "\n",
      "[ True False  True  True]\n"
     ]
    }
   ],
   "source": [
    "#operations on array and datatype\n",
    "\n",
    "arr = np.array([4,2,6,8,] , dtype='int64')\n",
    "print(arr * 2 ,'\\n')\n",
    "print(arr * arr ,'\\n')\n",
    "print(2/arr  ,'\\n')\n",
    "print(arr ** 2 ,'\\n')\n",
    "print(np.sqrt(arr) , '\\n')\n",
    "print(np.exp(arr) , '\\n')\n",
    "print(np.mean(arr) , '\\n')\n",
    "print(np.sort(arr) , '\\n')\n",
    "print(np.sum(arr) , '\\n')\n",
    "print(np.cumsum(arr) , '\\n')\n",
    "\n",
    "\n",
    "arr2= np.array([1,2,3,4])\n",
    "\n",
    "print(arr > arr2)"
   ]
  },
  {
   "cell_type": "code",
   "execution_count": 72,
   "metadata": {},
   "outputs": [
    {
     "name": "stdout",
     "output_type": "stream",
     "text": [
      "[0 1 2 3 4 5 6 7 8 9]\n",
      "[5 6 7]\n",
      "[0 0 0 3 4 5 6 7 8 9]\n"
     ]
    }
   ],
   "source": [
    "# indexing and slicing\n",
    "\n",
    "arr=np.arange(10)\n",
    "print(arr)\n",
    "9\n",
    "arr2=arr[5:8]\n",
    "print(arr2)\n",
    "\n",
    "arr[:3]=0\n",
    "print(arr)"
   ]
  },
  {
   "cell_type": "code",
   "execution_count": 108,
   "metadata": {},
   "outputs": [
    {
     "name": "stdout",
     "output_type": "stream",
     "text": [
      "[[-1.48996757  0.67436014 -0.29397452]\n",
      " [ 0.01436092  0.04158438 -1.36624663]\n",
      " [ 1.15214238 -0.63827616  1.94497463]\n",
      " [ 0.50279099  1.30619832  1.49055136]\n",
      " [ 0.30689239 -0.09440126 -1.25076309]] \n",
      "\n",
      "['Umar' 'Umair' 'Nouroz' 'Ali' 'Umar'] \n",
      "\n",
      "[ True False False False  True] \n",
      "\n",
      "[[-1.48996757  0.67436014 -0.29397452]\n",
      " [ 0.30689239 -0.09440126 -1.25076309]] \n",
      "\n",
      "[[ 0.01436092  0.04158438 -1.36624663]\n",
      " [ 1.15214238 -0.63827616  1.94497463]\n",
      " [ 0.50279099  1.30619832  1.49055136]] \n",
      "\n",
      "['Ali' 'Nouroz' 'Umair' 'Umar'] \n",
      "\n"
     ]
    }
   ],
   "source": [
    "#boolean example --imp- the number of array and names shoule be same\n",
    "\n",
    "namesArr= np.array([\"Umar\", \"Umair\", \"Nouroz\", \"Ali\",\"Umar\"])\n",
    "numArr=np.random.randn(5,3)\n",
    "print(numArr , '\\n')\n",
    "print(namesArr , '\\n')\n",
    "print(namesArr == \"Umar\" , '\\n')\n",
    "print(numArr[namesArr==\"Umar\"] , '\\n')\n",
    "print(numArr[~(namesArr==\"Umar\")], '\\n')\n",
    "print(np.unique(namesArr),'\\n')"
   ]
  },
  {
   "cell_type": "code",
   "execution_count": 102,
   "metadata": {},
   "outputs": [
    {
     "name": "stdout",
     "output_type": "stream",
     "text": [
      "[-1.31219923  0.3114249  -0.64400874 -0.0641869 ] \n",
      "\n",
      "[ 0.14812246 -0.53896025  0.05679158 -0.33127801] \n",
      "\n",
      "[ 0.14812246  0.3114249   0.05679158 -0.0641869 ] \n",
      "\n",
      "[-1.31219923 -0.53896025 -0.64400874 -0.33127801] \n",
      "\n"
     ]
    }
   ],
   "source": [
    "arr1= np.random.randn(4)\n",
    "print(arr1 , '\\n')\n",
    "arr2= np.random.randn(4)\n",
    "print(arr2 , '\\n')\n",
    "print(np.maximum(arr1,arr2), '\\n')\n",
    "print(np.minimum(arr2,arr1), '\\n')"
   ]
  },
  {
   "cell_type": "code",
   "execution_count": null,
   "metadata": {},
   "outputs": [],
   "source": []
  }
 ],
 "metadata": {
  "kernelspec": {
   "display_name": "Python 3",
   "language": "python",
   "name": "python3"
  },
  "language_info": {
   "codemirror_mode": {
    "name": "ipython",
    "version": 3
   },
   "file_extension": ".py",
   "mimetype": "text/x-python",
   "name": "python",
   "nbconvert_exporter": "python",
   "pygments_lexer": "ipython3",
   "version": "3.7.3"
  }
 },
 "nbformat": 4,
 "nbformat_minor": 2
}
